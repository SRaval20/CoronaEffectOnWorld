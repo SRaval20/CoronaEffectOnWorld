{
 "cells": [
  {
   "cell_type": "code",
   "execution_count": 1,
   "metadata": {},
   "outputs": [],
   "source": [
    "import pygal\n",
    "from pygal.style import Style\n",
    "yourCustomStyle = Style(    colors=['#F64019', '#ED9210','#31A20C']   )\n",
    "worldmap_chart = pygal.maps.world.World(style=yourCustomStyle)\n",
    "worldmap_chart.title = 'Corona affected countries'\n",
    "worldmap_chart.add('>100 thousand',{'us':10000})\n",
    "worldmap_chart.render_to_file('corona.svg')"
   ]
  },
  {
   "cell_type": "code",
   "execution_count": null,
   "metadata": {},
   "outputs": [],
   "source": []
  }
 ],
 "metadata": {
  "kernelspec": {
   "display_name": "Python 3",
   "language": "python",
   "name": "python3"
  },
  "language_info": {
   "codemirror_mode": {
    "name": "ipython",
    "version": 3
   },
   "file_extension": ".py",
   "mimetype": "text/x-python",
   "name": "python",
   "nbconvert_exporter": "python",
   "pygments_lexer": "ipython3",
   "version": "3.7.4"
  }
 },
 "nbformat": 4,
 "nbformat_minor": 2
}
