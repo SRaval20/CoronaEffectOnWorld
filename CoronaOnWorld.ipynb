{
 "cells": [
  {
   "cell_type": "code",
   "execution_count": 6,
   "metadata": {},
   "outputs": [],
   "source": [
    "import pygal\n",
    "from pygal.style import Style\n",
    "yourCustomStyle = Style(    colors=['#F64019', '#ED9210','#31A20C']   )\n",
    "worldmap_chart = pygal.maps.world.World(style=yourCustomStyle)\n",
    "worldmap_chart.title = 'Corona affected countries'\n",
    "worldmap_chart.add('>100 thousand', {'us':2053304,'br':747561,'ru':493657,'gb':290143,'es':289046,'in':286755,'it':235763,'pe':203736,'de':186866,'ir':177938,'tr':172114,'fr':154591,'cl':148496,'mx':124301,'pk':113702,'sa':112288})\n",
    "worldmap_chart.add('10-100 thousand',{'ca':96904,'cn':83046,'bd':74865,'be':59569,'za':52991,'by':51066,'nl':48087,'se':46814,'ec':43917,'co':42078,'ae':39904,'sg':38965,'eg':36829,'pt':35600,'kw':34316,'id':33823,'sz':31011,'ua':28381,'pl':27842,'ie':25215,'ar':24761,'ph':23732,'af':22142,'ro':20945,'do':20808,'om':18887,'il':18268,'pa':17233,'jp':17210,'at':17005,'bh':16200,'bo':15414,'iq':14644,'am':14103,'ng':13464,'kz':13319,'dk':12031,'rs':12016,'kr':11902,'dz':10484,'md':10321,'gh':10201})\n",
    "worldmap_chart.add('1-10 thousand',{'cz':9787,'cm':8681,'no':8588,'az':8530,'ma':8455,'my':8338,'gt':7866,'au':7276,'fi':7040,'hn':6935,'sd':6427,'tj':4763,'sn':4640,'uz':4591,'cd':4390,'dj':4373,'np':4364,'gn':4258,'lu':4049,'hu':4027,'ht':3662,'mk':3364,'ga':3294,'sv':3274,'th':3125,'gr':3068,'ke':3094,'bg':2889,'ba':2775,'ve':2632,'so':2452,'et':2506,'hr':2249,'cu':2211,'kg':2093,'ee':1958,'mv':1942,'lk':1868,'cf':1888,'is':1807,'lt':1733,'sd':1604,'ml':1667,'sk':1533,'nz':1504,'si':1488,'ni':1464,'gw':1389,'cr':1375,'lb':1388,'gq':1306,'al':1341,'zm':1200,'py':1187,'mr':1162,'mg':1162,'hk':1108,'lv':1092,'tn':1087,'sl':1062})\n",
    "worldmap_chart.render_to_file('coronaMap.svg')"
   ]
  },
  {
   "cell_type": "code",
   "execution_count": null,
   "metadata": {},
   "outputs": [],
   "source": []
  }
 ],
 "metadata": {
  "kernelspec": {
   "display_name": "Python 3",
   "language": "python",
   "name": "python3"
  },
  "language_info": {
   "codemirror_mode": {
    "name": "ipython",
    "version": 3
   },
   "file_extension": ".py",
   "mimetype": "text/x-python",
   "name": "python",
   "nbconvert_exporter": "python",
   "pygments_lexer": "ipython3",
   "version": "3.7.4"
  }
 },
 "nbformat": 4,
 "nbformat_minor": 2
}
